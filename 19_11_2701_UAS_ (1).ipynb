{
  "nbformat": 4,
  "nbformat_minor": 0,
  "metadata": {
    "colab": {
      "name": "19_11_2701_UAS_.ipynb",
      "provenance": [],
      "collapsed_sections": []
    },
    "kernelspec": {
      "name": "python3",
      "display_name": "Python 3"
    },
    "language_info": {
      "name": "python"
    }
  },
  "cells": [
    {
      "cell_type": "code",
      "source": [
        "import pandas as pd\n",
        "from sklearn.naive_bayes import GaussianNB\n",
        "from sklearn.model_selection import train_test_split\n",
        "from sklearn.metrics import accuracy_score"
      ],
      "metadata": {
        "id": "zvP6C05GyJH8"
      },
      "execution_count": 5,
      "outputs": []
    },
    {
      "cell_type": "code",
      "execution_count": 6,
      "metadata": {
        "colab": {
          "base_uri": "https://localhost:8080/"
        },
        "id": "F3oxCGrYxfJT",
        "outputId": "57330e2b-d373-4b47-fe30-da349ae0111e"
      },
      "outputs": [
        {
          "output_type": "stream",
          "name": "stdout",
          "text": [
            "Mounted at /content/drive\n"
          ]
        }
      ],
      "source": [
        "from google.colab import drive\n",
        "drive.mount('/content/drive')"
      ]
    },
    {
      "cell_type": "code",
      "source": [
        "data=pd.read_csv(\"/content/drive/My Drive/balance-scale.csv\",sep=',').values\n",
        "print(data)\n",
        "print(data.shape)"
      ],
      "metadata": {
        "colab": {
          "base_uri": "https://localhost:8080/"
        },
        "id": "ZEqIIac3yqIk",
        "outputId": "b52e24b8-cdd5-4f23-fe8f-0c9f961396fc"
      },
      "execution_count": 7,
      "outputs": [
        {
          "output_type": "stream",
          "name": "stdout",
          "text": [
            "[['B' 1 1 1 1]\n",
            " ['R' 1 1 1 2]\n",
            " ['R' 1 1 1 3]\n",
            " ...\n",
            " ['L' 5 5 5 3]\n",
            " ['L' 5 5 5 4]\n",
            " ['B' 5 5 5 5]]\n",
            "(625, 5)\n"
          ]
        }
      ]
    },
    {
      "cell_type": "code",
      "source": [
        "x = data[:,+1:]\n",
        "y = data[:,0]\n",
        "print(x)\n",
        "print(y)"
      ],
      "metadata": {
        "colab": {
          "base_uri": "https://localhost:8080/"
        },
        "id": "NHeNKLu_zUSg",
        "outputId": "393ee5f1-43d0-4f84-ba2b-0e7207d3717c"
      },
      "execution_count": 8,
      "outputs": [
        {
          "output_type": "stream",
          "name": "stdout",
          "text": [
            "[[1 1 1 1]\n",
            " [1 1 1 2]\n",
            " [1 1 1 3]\n",
            " ...\n",
            " [5 5 5 3]\n",
            " [5 5 5 4]\n",
            " [5 5 5 5]]\n",
            "['B' 'R' 'R' 'R' 'R' 'R' 'R' 'R' 'R' 'R' 'R' 'R' 'R' 'R' 'R' 'R' 'R' 'R'\n",
            " 'R' 'R' 'R' 'R' 'R' 'R' 'R' 'L' 'B' 'R' 'R' 'R' 'B' 'R' 'R' 'R' 'R' 'R'\n",
            " 'R' 'R' 'R' 'R' 'R' 'R' 'R' 'R' 'R' 'R' 'R' 'R' 'R' 'R' 'L' 'L' 'B' 'R'\n",
            " 'R' 'L' 'R' 'R' 'R' 'R' 'B' 'R' 'R' 'R' 'R' 'R' 'R' 'R' 'R' 'R' 'R' 'R'\n",
            " 'R' 'R' 'R' 'L' 'L' 'L' 'B' 'R' 'L' 'B' 'R' 'R' 'R' 'L' 'R' 'R' 'R' 'R'\n",
            " 'B' 'R' 'R' 'R' 'R' 'R' 'R' 'R' 'R' 'R' 'L' 'L' 'L' 'L' 'B' 'L' 'L' 'R'\n",
            " 'R' 'R' 'L' 'R' 'R' 'R' 'R' 'L' 'R' 'R' 'R' 'R' 'B' 'R' 'R' 'R' 'R' 'L'\n",
            " 'B' 'R' 'R' 'R' 'B' 'R' 'R' 'R' 'R' 'R' 'R' 'R' 'R' 'R' 'R' 'R' 'R' 'R'\n",
            " 'R' 'R' 'R' 'R' 'R' 'R' 'L' 'L' 'L' 'B' 'R' 'L' 'B' 'R' 'R' 'R' 'L' 'R'\n",
            " 'R' 'R' 'R' 'B' 'R' 'R' 'R' 'R' 'R' 'R' 'R' 'R' 'R' 'L' 'L' 'L' 'L' 'L'\n",
            " 'L' 'L' 'B' 'R' 'R' 'L' 'B' 'R' 'R' 'R' 'L' 'R' 'R' 'R' 'R' 'L' 'R' 'R'\n",
            " 'R' 'R' 'L' 'L' 'L' 'L' 'L' 'L' 'L' 'L' 'B' 'R' 'L' 'L' 'R' 'R' 'R' 'L'\n",
            " 'B' 'R' 'R' 'R' 'L' 'R' 'R' 'R' 'R' 'L' 'L' 'L' 'L' 'L' 'L' 'L' 'L' 'L'\n",
            " 'B' 'L' 'L' 'L' 'R' 'R' 'L' 'L' 'R' 'R' 'R' 'L' 'B' 'R' 'R' 'R' 'L' 'L'\n",
            " 'B' 'R' 'R' 'L' 'R' 'R' 'R' 'R' 'B' 'R' 'R' 'R' 'R' 'R' 'R' 'R' 'R' 'R'\n",
            " 'R' 'R' 'R' 'R' 'R' 'L' 'L' 'L' 'L' 'L' 'L' 'L' 'B' 'R' 'R' 'L' 'B' 'R'\n",
            " 'R' 'R' 'L' 'R' 'R' 'R' 'R' 'L' 'R' 'R' 'R' 'R' 'L' 'L' 'L' 'L' 'L' 'L'\n",
            " 'L' 'L' 'L' 'R' 'L' 'L' 'B' 'R' 'R' 'L' 'L' 'R' 'R' 'R' 'L' 'R' 'R' 'R'\n",
            " 'R' 'L' 'L' 'L' 'L' 'L' 'L' 'L' 'L' 'L' 'L' 'L' 'L' 'L' 'B' 'R' 'L' 'L'\n",
            " 'B' 'R' 'R' 'L' 'L' 'R' 'R' 'R' 'L' 'L' 'L' 'L' 'L' 'L' 'L' 'L' 'L' 'L'\n",
            " 'L' 'L' 'L' 'L' 'B' 'L' 'L' 'L' 'R' 'R' 'L' 'L' 'B' 'R' 'R' 'L' 'L' 'L'\n",
            " 'B' 'R' 'L' 'B' 'R' 'R' 'R' 'L' 'R' 'R' 'R' 'R' 'B' 'R' 'R' 'R' 'R' 'R'\n",
            " 'R' 'R' 'R' 'R' 'L' 'L' 'L' 'L' 'L' 'L' 'L' 'L' 'B' 'R' 'L' 'L' 'R' 'R'\n",
            " 'R' 'L' 'B' 'R' 'R' 'R' 'L' 'R' 'R' 'R' 'R' 'L' 'L' 'L' 'L' 'L' 'L' 'L'\n",
            " 'L' 'L' 'L' 'L' 'L' 'L' 'B' 'R' 'L' 'L' 'B' 'R' 'R' 'L' 'L' 'R' 'R' 'R'\n",
            " 'L' 'L' 'L' 'L' 'L' 'L' 'L' 'L' 'L' 'L' 'L' 'L' 'L' 'L' 'L' 'L' 'L' 'L'\n",
            " 'B' 'R' 'L' 'L' 'L' 'R' 'R' 'L' 'L' 'L' 'L' 'L' 'L' 'L' 'L' 'L' 'L' 'L'\n",
            " 'L' 'L' 'L' 'L' 'L' 'L' 'L' 'L' 'B' 'L' 'L' 'L' 'B' 'R' 'L' 'L' 'L' 'L'\n",
            " 'B' 'L' 'L' 'R' 'R' 'R' 'L' 'R' 'R' 'R' 'R' 'L' 'R' 'R' 'R' 'R' 'B' 'R'\n",
            " 'R' 'R' 'R' 'L' 'L' 'L' 'L' 'L' 'L' 'L' 'L' 'L' 'B' 'L' 'L' 'L' 'R' 'R'\n",
            " 'L' 'L' 'R' 'R' 'R' 'L' 'B' 'R' 'R' 'R' 'L' 'L' 'L' 'L' 'L' 'L' 'L' 'L'\n",
            " 'L' 'L' 'L' 'L' 'L' 'L' 'B' 'L' 'L' 'L' 'R' 'R' 'L' 'L' 'B' 'R' 'R' 'L'\n",
            " 'L' 'L' 'L' 'L' 'L' 'L' 'L' 'L' 'L' 'L' 'L' 'L' 'L' 'L' 'L' 'L' 'L' 'L'\n",
            " 'B' 'L' 'L' 'L' 'B' 'R' 'L' 'L' 'L' 'L' 'L' 'L' 'L' 'L' 'L' 'L' 'L' 'L'\n",
            " 'L' 'L' 'L' 'L' 'L' 'L' 'L' 'L' 'L' 'L' 'L' 'L' 'B']\n"
          ]
        }
      ]
    },
    {
      "cell_type": "code",
      "source": [
        "x_train,x_test,y_train,y_test = train_test_split(x,y)\n",
        "print(x_test)\n",
        "print(y_test)"
      ],
      "metadata": {
        "colab": {
          "base_uri": "https://localhost:8080/"
        },
        "id": "aw6cC8SpzhZt",
        "outputId": "a13d585d-9e0a-4a1c-de08-02d6de76ca0f"
      },
      "execution_count": 9,
      "outputs": [
        {
          "output_type": "stream",
          "name": "stdout",
          "text": [
            "[[1 2 4 5]\n",
            " [2 5 4 4]\n",
            " [2 5 5 3]\n",
            " [4 3 5 2]\n",
            " [3 1 5 4]\n",
            " [5 5 1 5]\n",
            " [5 3 4 3]\n",
            " [1 1 1 5]\n",
            " [4 5 5 5]\n",
            " [1 1 4 3]\n",
            " [3 3 1 5]\n",
            " [1 5 5 1]\n",
            " [5 4 2 1]\n",
            " [4 5 5 3]\n",
            " [4 3 3 2]\n",
            " [2 1 3 4]\n",
            " [3 4 3 4]\n",
            " [4 3 4 2]\n",
            " [1 5 5 3]\n",
            " [1 3 3 2]\n",
            " [2 3 5 4]\n",
            " [3 1 2 1]\n",
            " [2 1 2 5]\n",
            " [1 3 3 4]\n",
            " [5 1 2 2]\n",
            " [3 3 1 1]\n",
            " [4 4 5 3]\n",
            " [2 2 3 5]\n",
            " [3 2 4 5]\n",
            " [2 2 3 1]\n",
            " [5 1 2 3]\n",
            " [5 1 4 1]\n",
            " [2 3 3 4]\n",
            " [1 1 4 2]\n",
            " [4 3 3 5]\n",
            " [1 4 1 4]\n",
            " [4 1 1 1]\n",
            " [1 1 1 1]\n",
            " [4 1 5 1]\n",
            " [1 5 2 5]\n",
            " [1 1 3 4]\n",
            " [1 4 4 5]\n",
            " [1 1 3 5]\n",
            " [5 1 4 4]\n",
            " [2 5 4 3]\n",
            " [5 1 3 2]\n",
            " [5 2 3 4]\n",
            " [4 2 1 4]\n",
            " [3 2 5 3]\n",
            " [4 5 5 4]\n",
            " [2 3 1 5]\n",
            " [5 1 5 3]\n",
            " [4 2 3 2]\n",
            " [5 2 5 4]\n",
            " [3 3 2 4]\n",
            " [2 1 4 5]\n",
            " [1 3 5 1]\n",
            " [3 2 4 2]\n",
            " [1 1 3 3]\n",
            " [2 3 3 1]\n",
            " [2 4 3 1]\n",
            " [3 2 2 3]\n",
            " [5 5 2 5]\n",
            " [1 3 3 1]\n",
            " [1 5 5 2]\n",
            " [4 5 2 4]\n",
            " [2 1 1 3]\n",
            " [5 2 1 3]\n",
            " [3 2 3 2]\n",
            " [1 1 1 3]\n",
            " [2 4 2 5]\n",
            " [3 1 4 1]\n",
            " [4 2 4 2]\n",
            " [1 3 2 1]\n",
            " [3 5 2 2]\n",
            " [3 4 5 3]\n",
            " [1 4 4 2]\n",
            " [4 1 3 1]\n",
            " [2 5 1 3]\n",
            " [2 3 2 4]\n",
            " [4 4 4 2]\n",
            " [3 4 1 5]\n",
            " [4 2 2 3]\n",
            " [1 3 4 2]\n",
            " [1 5 3 3]\n",
            " [3 5 2 3]\n",
            " [1 2 2 4]\n",
            " [3 1 3 4]\n",
            " [4 2 1 1]\n",
            " [1 5 3 5]\n",
            " [5 5 1 3]\n",
            " [5 3 2 4]\n",
            " [5 3 1 4]\n",
            " [2 2 3 2]\n",
            " [5 1 2 4]\n",
            " [3 3 5 4]\n",
            " [4 3 4 1]\n",
            " [5 3 4 1]\n",
            " [2 4 2 4]\n",
            " [1 5 5 5]\n",
            " [2 5 2 2]\n",
            " [2 1 2 4]\n",
            " [1 2 1 2]\n",
            " [2 4 4 2]\n",
            " [2 2 3 4]\n",
            " [3 1 5 3]\n",
            " [5 4 5 4]\n",
            " [5 2 4 1]\n",
            " [3 1 4 3]\n",
            " [2 2 5 4]\n",
            " [4 3 4 4]\n",
            " [3 3 2 5]\n",
            " [2 1 5 1]\n",
            " [5 5 4 2]\n",
            " [1 3 4 4]\n",
            " [2 3 5 2]\n",
            " [4 3 1 2]\n",
            " [2 4 4 3]\n",
            " [5 1 5 4]\n",
            " [3 4 5 1]\n",
            " [4 4 1 1]\n",
            " [2 3 1 1]\n",
            " [5 4 1 1]\n",
            " [2 1 5 4]\n",
            " [5 4 3 1]\n",
            " [3 5 4 4]\n",
            " [4 4 4 1]\n",
            " [5 5 5 5]\n",
            " [3 2 5 2]\n",
            " [3 4 3 1]\n",
            " [4 3 2 4]\n",
            " [4 5 2 3]\n",
            " [3 5 1 3]\n",
            " [4 2 5 4]\n",
            " [2 4 1 3]\n",
            " [3 3 3 1]\n",
            " [4 4 1 2]\n",
            " [5 5 4 1]\n",
            " [3 1 5 5]\n",
            " [4 5 2 2]\n",
            " [4 3 5 5]\n",
            " [5 1 5 5]\n",
            " [4 5 4 5]\n",
            " [4 4 2 2]\n",
            " [3 1 4 5]\n",
            " [2 2 4 2]\n",
            " [5 4 5 5]\n",
            " [3 3 1 3]\n",
            " [2 1 4 4]\n",
            " [1 3 4 1]\n",
            " [5 4 5 3]\n",
            " [2 2 4 5]\n",
            " [5 2 5 5]\n",
            " [1 2 3 5]\n",
            " [3 1 1 1]\n",
            " [4 4 1 3]\n",
            " [5 4 4 1]]\n",
            "['R' 'R' 'R' 'L' 'R' 'L' 'L' 'R' 'R' 'R' 'L' 'B' 'L' 'L' 'L' 'R' 'B' 'L'\n",
            " 'R' 'R' 'R' 'L' 'R' 'R' 'L' 'L' 'L' 'R' 'R' 'L' 'R' 'L' 'R' 'R' 'R' 'B'\n",
            " 'L' 'B' 'R' 'R' 'R' 'R' 'R' 'R' 'R' 'R' 'R' 'L' 'R' 'B' 'L' 'R' 'L' 'R'\n",
            " 'L' 'R' 'R' 'R' 'R' 'L' 'L' 'B' 'L' 'B' 'R' 'L' 'R' 'L' 'B' 'R' 'R' 'R'\n",
            " 'B' 'L' 'L' 'R' 'R' 'L' 'L' 'R' 'L' 'L' 'L' 'R' 'R' 'L' 'R' 'R' 'L' 'R'\n",
            " 'L' 'L' 'L' 'R' 'R' 'R' 'L' 'L' 'B' 'R' 'L' 'R' 'B' 'B' 'R' 'R' 'B' 'L'\n",
            " 'R' 'R' 'R' 'R' 'R' 'L' 'R' 'R' 'L' 'R' 'R' 'L' 'L' 'L' 'L' 'R' 'L' 'R'\n",
            " 'L' 'B' 'R' 'L' 'L' 'L' 'L' 'R' 'L' 'L' 'L' 'L' 'R' 'L' 'R' 'R' 'B' 'L'\n",
            " 'R' 'R' 'R' 'L' 'R' 'R' 'L' 'R' 'R' 'R' 'L' 'L' 'L']\n"
          ]
        }
      ]
    },
    {
      "cell_type": "code",
      "source": [
        "print(x_test.shape)"
      ],
      "metadata": {
        "colab": {
          "base_uri": "https://localhost:8080/"
        },
        "id": "-Fx3fXJ00j82",
        "outputId": "bb48296c-eb60-4ff4-e85a-87f9cdf4eb45"
      },
      "execution_count": 10,
      "outputs": [
        {
          "output_type": "stream",
          "name": "stdout",
          "text": [
            "(157, 4)\n"
          ]
        }
      ]
    },
    {
      "cell_type": "code",
      "source": [
        "nb = GaussianNB()\n",
        "nb.fit(x_train, y_train)"
      ],
      "metadata": {
        "colab": {
          "base_uri": "https://localhost:8080/"
        },
        "id": "o9oO-xZ_0s6H",
        "outputId": "d02b492e-1892-4793-d635-a8276f64e06a"
      },
      "execution_count": 11,
      "outputs": [
        {
          "output_type": "execute_result",
          "data": {
            "text/plain": [
              "GaussianNB()"
            ]
          },
          "metadata": {},
          "execution_count": 11
        }
      ]
    },
    {
      "cell_type": "code",
      "source": [
        "data= [(1,2,1,1)]\n",
        "ypredic = nb.predict(data)\n",
        "print(ypredic)"
      ],
      "metadata": {
        "colab": {
          "base_uri": "https://localhost:8080/"
        },
        "id": "p8bOjRMP1BsD",
        "outputId": "e7681458-50f4-43a5-e419-6690c1d99d34"
      },
      "execution_count": 12,
      "outputs": [
        {
          "output_type": "stream",
          "name": "stdout",
          "text": [
            "['L']\n"
          ]
        }
      ]
    },
    {
      "cell_type": "code",
      "source": [
        "prediksi = nb.predict(x_test)\n",
        "print(prediksi)"
      ],
      "metadata": {
        "colab": {
          "base_uri": "https://localhost:8080/"
        },
        "id": "dVc9ciYP1QfV",
        "outputId": "a42bb2cf-3829-47d6-dd09-60e8078d0247"
      },
      "execution_count": 13,
      "outputs": [
        {
          "output_type": "stream",
          "name": "stdout",
          "text": [
            "['R' 'R' 'R' 'L' 'R' 'L' 'L' 'R' 'R' 'R' 'L' 'L' 'L' 'L' 'L' 'R' 'L' 'L'\n",
            " 'R' 'R' 'R' 'L' 'R' 'R' 'L' 'L' 'L' 'R' 'R' 'L' 'L' 'L' 'R' 'R' 'R' 'L'\n",
            " 'L' 'R' 'R' 'R' 'R' 'R' 'R' 'R' 'L' 'L' 'R' 'L' 'R' 'L' 'R' 'R' 'L' 'R'\n",
            " 'L' 'R' 'R' 'R' 'R' 'L' 'L' 'R' 'L' 'L' 'R' 'L' 'R' 'L' 'R' 'R' 'R' 'R'\n",
            " 'R' 'L' 'L' 'R' 'R' 'L' 'L' 'R' 'L' 'L' 'L' 'R' 'R' 'L' 'R' 'R' 'L' 'R'\n",
            " 'L' 'L' 'L' 'R' 'R' 'R' 'L' 'L' 'L' 'R' 'L' 'R' 'R' 'L' 'R' 'R' 'L' 'L'\n",
            " 'R' 'R' 'R' 'R' 'R' 'L' 'R' 'R' 'L' 'R' 'R' 'L' 'L' 'L' 'L' 'R' 'L' 'L'\n",
            " 'L' 'L' 'R' 'L' 'L' 'L' 'L' 'R' 'L' 'L' 'L' 'L' 'R' 'L' 'R' 'R' 'L' 'L'\n",
            " 'R' 'R' 'R' 'L' 'R' 'R' 'L' 'R' 'R' 'R' 'L' 'L' 'L']\n"
          ]
        }
      ]
    },
    {
      "cell_type": "code",
      "source": [
        "for i in range (len(y_test)):\n",
        "  print(y_test[i],prediksi[i])"
      ],
      "metadata": {
        "colab": {
          "base_uri": "https://localhost:8080/"
        },
        "id": "B4wTGi6k1fnO",
        "outputId": "55ac9207-34e6-46e2-816b-ce0eb55069de"
      },
      "execution_count": 14,
      "outputs": [
        {
          "output_type": "stream",
          "name": "stdout",
          "text": [
            "R R\n",
            "R R\n",
            "R R\n",
            "L L\n",
            "R R\n",
            "L L\n",
            "L L\n",
            "R R\n",
            "R R\n",
            "R R\n",
            "L L\n",
            "B L\n",
            "L L\n",
            "L L\n",
            "L L\n",
            "R R\n",
            "B L\n",
            "L L\n",
            "R R\n",
            "R R\n",
            "R R\n",
            "L L\n",
            "R R\n",
            "R R\n",
            "L L\n",
            "L L\n",
            "L L\n",
            "R R\n",
            "R R\n",
            "L L\n",
            "R L\n",
            "L L\n",
            "R R\n",
            "R R\n",
            "R R\n",
            "B L\n",
            "L L\n",
            "B R\n",
            "R R\n",
            "R R\n",
            "R R\n",
            "R R\n",
            "R R\n",
            "R R\n",
            "R L\n",
            "R L\n",
            "R R\n",
            "L L\n",
            "R R\n",
            "B L\n",
            "L R\n",
            "R R\n",
            "L L\n",
            "R R\n",
            "L L\n",
            "R R\n",
            "R R\n",
            "R R\n",
            "R R\n",
            "L L\n",
            "L L\n",
            "B R\n",
            "L L\n",
            "B L\n",
            "R R\n",
            "L L\n",
            "R R\n",
            "L L\n",
            "B R\n",
            "R R\n",
            "R R\n",
            "R R\n",
            "B R\n",
            "L L\n",
            "L L\n",
            "R R\n",
            "R R\n",
            "L L\n",
            "L L\n",
            "R R\n",
            "L L\n",
            "L L\n",
            "L L\n",
            "R R\n",
            "R R\n",
            "L L\n",
            "R R\n",
            "R R\n",
            "L L\n",
            "R R\n",
            "L L\n",
            "L L\n",
            "L L\n",
            "R R\n",
            "R R\n",
            "R R\n",
            "L L\n",
            "L L\n",
            "B L\n",
            "R R\n",
            "L L\n",
            "R R\n",
            "B R\n",
            "B L\n",
            "R R\n",
            "R R\n",
            "B L\n",
            "L L\n",
            "R R\n",
            "R R\n",
            "R R\n",
            "R R\n",
            "R R\n",
            "L L\n",
            "R R\n",
            "R R\n",
            "L L\n",
            "R R\n",
            "R R\n",
            "L L\n",
            "L L\n",
            "L L\n",
            "L L\n",
            "R R\n",
            "L L\n",
            "R L\n",
            "L L\n",
            "B L\n",
            "R R\n",
            "L L\n",
            "L L\n",
            "L L\n",
            "L L\n",
            "R R\n",
            "L L\n",
            "L L\n",
            "L L\n",
            "L L\n",
            "R R\n",
            "L L\n",
            "R R\n",
            "R R\n",
            "B L\n",
            "L L\n",
            "R R\n",
            "R R\n",
            "R R\n",
            "L L\n",
            "R R\n",
            "R R\n",
            "L L\n",
            "R R\n",
            "R R\n",
            "R R\n",
            "L L\n",
            "L L\n",
            "L L\n"
          ]
        }
      ]
    },
    {
      "cell_type": "code",
      "source": [
        "print(accuracy_score(y_test,prediksi)*100)"
      ],
      "metadata": {
        "colab": {
          "base_uri": "https://localhost:8080/"
        },
        "id": "bLqvzbWP1udL",
        "outputId": "c93f4d44-d75d-4d24-db87-27e384ba8bb0"
      },
      "execution_count": 15,
      "outputs": [
        {
          "output_type": "stream",
          "name": "stdout",
          "text": [
            "87.26114649681529\n"
          ]
        }
      ]
    }
  ]
}